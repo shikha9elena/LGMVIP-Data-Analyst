{
 "cells": [
  {
   "cell_type": "markdown",
   "metadata": {},
   "source": [
    "# Beginner Task 2"
   ]
  },
  {
   "cell_type": "markdown",
   "metadata": {},
   "source": [
    "## Sketching With Python"
   ]
  },
  {
   "cell_type": "markdown",
   "metadata": {},
   "source": [
    "Task 2: Image to pencil sketch using python"
   ]
  },
  {
   "cell_type": "markdown",
   "metadata": {},
   "source": [
    "Author: Shikha Pathak"
   ]
  },
  {
   "cell_type": "code",
   "execution_count": 1,
   "metadata": {},
   "outputs": [],
   "source": [
    "# importing the library\n",
    "import cv2"
   ]
  },
  {
   "cell_type": "code",
   "execution_count": 2,
   "metadata": {},
   "outputs": [],
   "source": [
    "hela= cv2.imread('hela.jpg') #loading the imaage"
   ]
  },
  {
   "cell_type": "code",
   "execution_count": 3,
   "metadata": {},
   "outputs": [
    {
     "data": {
      "text/plain": [
       "array([[[ 47,   2,  11],\n",
       "        [ 54,   8,  20],\n",
       "        [ 65,  15,  33],\n",
       "        ...,\n",
       "        [143,  67, 115],\n",
       "        [106,  29,  80],\n",
       "        [128,  51, 102]],\n",
       "\n",
       "       [[ 55,   9,  22],\n",
       "        [ 68,  21,  37],\n",
       "        [ 79,  28,  48],\n",
       "        ...,\n",
       "        [130,  54, 102],\n",
       "        [157,  80, 131],\n",
       "        [145,  68, 119]],\n",
       "\n",
       "       [[ 67,  18,  38],\n",
       "        [ 77,  28,  50],\n",
       "        [ 84,  31,  58],\n",
       "        ...,\n",
       "        [124,  47,  98],\n",
       "        [151,  74, 125],\n",
       "        [156,  79, 130]],\n",
       "\n",
       "       ...,\n",
       "\n",
       "       [[  0,   0,   0],\n",
       "        [  0,   0,   0],\n",
       "        [  0,   0,   0],\n",
       "        ...,\n",
       "        [172, 101, 158],\n",
       "        [128,  57, 114],\n",
       "        [155,  84, 141]],\n",
       "\n",
       "       [[  0,   0,   0],\n",
       "        [  0,   0,   0],\n",
       "        [  0,   0,   0],\n",
       "        ...,\n",
       "        [153,  83, 143],\n",
       "        [141,  71, 131],\n",
       "        [166,  96, 156]],\n",
       "\n",
       "       [[  0,   0,   0],\n",
       "        [  0,   0,   0],\n",
       "        [  0,   0,   0],\n",
       "        ...,\n",
       "        [153,  83, 143],\n",
       "        [163,  93, 153],\n",
       "        [167,  97, 157]]], dtype=uint8)"
      ]
     },
     "execution_count": 3,
     "metadata": {},
     "output_type": "execute_result"
    }
   ],
   "source": [
    "hela"
   ]
  },
  {
   "cell_type": "code",
   "execution_count": 4,
   "metadata": {},
   "outputs": [
    {
     "data": {
      "text/plain": [
       "array([[ 10,  17,  26, ...,  90,  53,  75],\n",
       "       [ 18,  31,  40, ...,  77, 104,  92],\n",
       "       [ 30,  40,  45, ...,  71,  98, 103],\n",
       "       ...,\n",
       "       [  0,   0,   0, ..., 126,  82, 109],\n",
       "       [  0,   0,   0, ..., 109,  97, 122],\n",
       "       [  0,   0,   0, ..., 109, 119, 123]], dtype=uint8)"
      ]
     },
     "execution_count": 4,
     "metadata": {},
     "output_type": "execute_result"
    }
   ],
   "source": [
    "grey_fil=cv2.cvtColor(hela, cv2.COLOR_BGR2GRAY) # Adding the grey filter to the image\n",
    "grey_fil"
   ]
  },
  {
   "cell_type": "code",
   "execution_count": 5,
   "metadata": {},
   "outputs": [
    {
     "data": {
      "text/plain": [
       "(360, 360, 3)"
      ]
     },
     "execution_count": 5,
     "metadata": {},
     "output_type": "execute_result"
    }
   ],
   "source": [
    "hela.shape"
   ]
  },
  {
   "cell_type": "code",
   "execution_count": 6,
   "metadata": {},
   "outputs": [
    {
     "data": {
      "text/plain": [
       "array([[245, 238, 229, ..., 165, 202, 180],\n",
       "       [237, 224, 215, ..., 178, 151, 163],\n",
       "       [225, 215, 210, ..., 184, 157, 152],\n",
       "       ...,\n",
       "       [255, 255, 255, ..., 129, 173, 146],\n",
       "       [255, 255, 255, ..., 146, 158, 133],\n",
       "       [255, 255, 255, ..., 146, 136, 132]], dtype=uint8)"
      ]
     },
     "execution_count": 6,
     "metadata": {},
     "output_type": "execute_result"
    }
   ],
   "source": [
    "invert_blur=cv2.bitwise_not(grey_fil)\n",
    "invert_blur"
   ]
  },
  {
   "cell_type": "code",
   "execution_count": 7,
   "metadata": {},
   "outputs": [
    {
     "data": {
      "text/plain": [
       "array([[200, 199, 197, ..., 173, 174, 174],\n",
       "       [199, 198, 196, ..., 173, 174, 174],\n",
       "       [195, 195, 192, ..., 173, 174, 174],\n",
       "       ...,\n",
       "       [255, 255, 255, ..., 152, 152, 152],\n",
       "       [255, 255, 255, ..., 151, 151, 151],\n",
       "       [255, 255, 255, ..., 151, 151, 151]], dtype=uint8)"
      ]
     },
     "execution_count": 7,
     "metadata": {},
     "output_type": "execute_result"
    }
   ],
   "source": [
    "hela_blur=cv2.GaussianBlur(invert_blur,(21,21),0) # adding the blur attribute of cv2 library\n",
    "hela_blur"
   ]
  },
  {
   "cell_type": "code",
   "execution_count": 8,
   "metadata": {},
   "outputs": [],
   "source": [
    "sketch =cv2.divide(grey_fil,invert_blur,scale=255.0)"
   ]
  },
  {
   "cell_type": "code",
   "execution_count": 9,
   "metadata": {},
   "outputs": [
    {
     "data": {
      "text/plain": [
       "array([[ 10,  18,  29, ..., 139,  67, 106],\n",
       "       [ 19,  35,  47, ..., 110, 176, 144],\n",
       "       [ 34,  47,  55, ...,  98, 159, 173],\n",
       "       ...,\n",
       "       [  0,   0,   0, ..., 249, 121, 190],\n",
       "       [  0,   0,   0, ..., 190, 157, 234],\n",
       "       [  0,   0,   0, ..., 190, 223, 238]], dtype=uint8)"
      ]
     },
     "execution_count": 9,
     "metadata": {},
     "output_type": "execute_result"
    }
   ],
   "source": [
    "sketch"
   ]
  },
  {
   "cell_type": "code",
   "execution_count": 10,
   "metadata": {},
   "outputs": [
    {
     "data": {
      "text/plain": [
       "True"
      ]
     },
     "execution_count": 10,
     "metadata": {},
     "output_type": "execute_result"
    }
   ],
   "source": [
    "cv2.imwrite('output.png',sketch)"
   ]
  }
 ],
 "metadata": {
  "kernelspec": {
   "display_name": "Python 3",
   "language": "python",
   "name": "python3"
  },
  "language_info": {
   "codemirror_mode": {
    "name": "ipython",
    "version": 3
   },
   "file_extension": ".py",
   "mimetype": "text/x-python",
   "name": "python",
   "nbconvert_exporter": "python",
   "pygments_lexer": "ipython3",
   "version": "3.8.5"
  }
 },
 "nbformat": 4,
 "nbformat_minor": 4
}
